{
 "cells": [
  {
   "cell_type": "code",
   "execution_count": 99,
   "id": "48c296c4",
   "metadata": {},
   "outputs": [],
   "source": [
    "import pandas as pd"
   ]
  },
  {
   "cell_type": "code",
   "execution_count": 100,
   "id": "8939aa9e",
   "metadata": {},
   "outputs": [
    {
     "name": "stderr",
     "output_type": "stream",
     "text": [
      "C:\\Users\\peter\\AppData\\Local\\Temp\\ipykernel_19528\\124648328.py:1: DtypeWarning: Columns (1,2) have mixed types. Specify dtype option on import or set low_memory=False.\n",
      "  df = pd.read_csv('data/2022/flights_combined.csv')\n"
     ]
    }
   ],
   "source": [
    "df = pd.read_csv('data/2022/flights_combined.csv')"
   ]
  },
  {
   "cell_type": "code",
   "execution_count": 101,
   "id": "68688aa5",
   "metadata": {},
   "outputs": [],
   "source": [
    "df['arrival.delay'].fillna(0, inplace=True)"
   ]
  },
  {
   "cell_type": "code",
   "execution_count": 102,
   "id": "7a46c8fd",
   "metadata": {},
   "outputs": [],
   "source": [
    "df['year'] = pd.DatetimeIndex(df['departure.scheduledTime']).year"
   ]
  },
  {
   "cell_type": "code",
   "execution_count": 103,
   "id": "083de545",
   "metadata": {},
   "outputs": [],
   "source": [
    "df['month'] = pd.DatetimeIndex(df['departure.scheduledTime']).month"
   ]
  },
  {
   "cell_type": "code",
   "execution_count": 104,
   "id": "5716aaa1",
   "metadata": {},
   "outputs": [],
   "source": [
    "df['day'] = pd.DatetimeIndex(df['departure.scheduledTime']).day"
   ]
  },
  {
   "cell_type": "code",
   "execution_count": 105,
   "id": "f40ab31c",
   "metadata": {},
   "outputs": [],
   "source": [
    "df['date'] = pd.to_datetime(df['departure.scheduledTime'])\n",
    "\n",
    "df['weekday'] = df['date'].dt.dayofweek"
   ]
  },
  {
   "cell_type": "code",
   "execution_count": 106,
   "id": "229ac163",
   "metadata": {},
   "outputs": [],
   "source": [
    "#TODO: get scheduled time as feature\n",
    "#TODO: get sheduled arrival times and find diff between actual and maybe use as target for regression\n",
    "\n",
    "df['time'] = pd.DatetimeIndex(df['departure.scheduledTime']).time"
   ]
  },
  {
   "cell_type": "code",
   "execution_count": 168,
   "id": "12427954",
   "metadata": {},
   "outputs": [],
   "source": [
    "df_airports = pd.read_csv('data/GlobalAirportDatabase.csv')\n",
    "df_airports.drop(['latitude_degrees', 'latitude_minutes', 'latitude_seconds',\n",
    "                  'latitude_direction', 'longitude_degrees', 'longitude_minutes',\n",
    "                  'longitude_seconds', 'longitude_direction'], axis=1, inplace=True)"
   ]
  },
  {
   "cell_type": "code",
   "execution_count": 169,
   "id": "4f7fbce4",
   "metadata": {},
   "outputs": [
    {
     "data": {
      "text/html": [
       "<div>\n",
       "<style scoped>\n",
       "    .dataframe tbody tr th:only-of-type {\n",
       "        vertical-align: middle;\n",
       "    }\n",
       "\n",
       "    .dataframe tbody tr th {\n",
       "        vertical-align: top;\n",
       "    }\n",
       "\n",
       "    .dataframe thead th {\n",
       "        text-align: right;\n",
       "    }\n",
       "</style>\n",
       "<table border=\"1\" class=\"dataframe\">\n",
       "  <thead>\n",
       "    <tr style=\"text-align: right;\">\n",
       "      <th></th>\n",
       "      <th>ICAO</th>\n",
       "      <th>departure.iataCode</th>\n",
       "      <th>arrival.iataCode</th>\n",
       "      <th>airport_name</th>\n",
       "      <th>city</th>\n",
       "      <th>country</th>\n",
       "      <th>altitude</th>\n",
       "      <th>latitude_decimal_degrees</th>\n",
       "      <th>longitude_decimal_degrees</th>\n",
       "    </tr>\n",
       "  </thead>\n",
       "  <tbody>\n",
       "    <tr>\n",
       "      <th>0</th>\n",
       "      <td>ayga</td>\n",
       "      <td>gka</td>\n",
       "      <td>gka</td>\n",
       "      <td>goroka</td>\n",
       "      <td>goroka</td>\n",
       "      <td>papua new guinea</td>\n",
       "      <td>1610</td>\n",
       "      <td>-6.082</td>\n",
       "      <td>145.392</td>\n",
       "    </tr>\n",
       "    <tr>\n",
       "      <th>1</th>\n",
       "      <td>ayla</td>\n",
       "      <td>lae</td>\n",
       "      <td>lae</td>\n",
       "      <td>NaN</td>\n",
       "      <td>lae</td>\n",
       "      <td>papua new guinea</td>\n",
       "      <td>0</td>\n",
       "      <td>0.000</td>\n",
       "      <td>0.000</td>\n",
       "    </tr>\n",
       "    <tr>\n",
       "      <th>2</th>\n",
       "      <td>aymd</td>\n",
       "      <td>mag</td>\n",
       "      <td>mag</td>\n",
       "      <td>madang</td>\n",
       "      <td>madang</td>\n",
       "      <td>papua new guinea</td>\n",
       "      <td>7</td>\n",
       "      <td>-5.207</td>\n",
       "      <td>145.789</td>\n",
       "    </tr>\n",
       "    <tr>\n",
       "      <th>3</th>\n",
       "      <td>aymh</td>\n",
       "      <td>hgu</td>\n",
       "      <td>hgu</td>\n",
       "      <td>mount hagen</td>\n",
       "      <td>mount hagen</td>\n",
       "      <td>papua new guinea</td>\n",
       "      <td>1643</td>\n",
       "      <td>-5.826</td>\n",
       "      <td>144.296</td>\n",
       "    </tr>\n",
       "    <tr>\n",
       "      <th>4</th>\n",
       "      <td>aynz</td>\n",
       "      <td>lae</td>\n",
       "      <td>lae</td>\n",
       "      <td>nadzab</td>\n",
       "      <td>nadzab</td>\n",
       "      <td>papua new guinea</td>\n",
       "      <td>73</td>\n",
       "      <td>-6.570</td>\n",
       "      <td>146.726</td>\n",
       "    </tr>\n",
       "  </tbody>\n",
       "</table>\n",
       "</div>"
      ],
      "text/plain": [
       "   ICAO departure.iataCode arrival.iataCode airport_name         city  \\\n",
       "0  ayga                gka              gka       goroka       goroka   \n",
       "1  ayla                lae              lae          NaN          lae   \n",
       "2  aymd                mag              mag       madang       madang   \n",
       "3  aymh                hgu              hgu  mount hagen  mount hagen   \n",
       "4  aynz                lae              lae       nadzab       nadzab   \n",
       "\n",
       "            country  altitude  latitude_decimal_degrees  \\\n",
       "0  papua new guinea      1610                    -6.082   \n",
       "1  papua new guinea         0                     0.000   \n",
       "2  papua new guinea         7                    -5.207   \n",
       "3  papua new guinea      1643                    -5.826   \n",
       "4  papua new guinea        73                    -6.570   \n",
       "\n",
       "   longitude_decimal_degrees  \n",
       "0                    145.392  \n",
       "1                      0.000  \n",
       "2                    145.789  \n",
       "3                    144.296  \n",
       "4                    146.726  "
      ]
     },
     "execution_count": 169,
     "metadata": {},
     "output_type": "execute_result"
    }
   ],
   "source": [
    "df_airports.head()"
   ]
  },
  {
   "cell_type": "code",
   "execution_count": 184,
   "id": "5ceac240",
   "metadata": {},
   "outputs": [],
   "source": [
    "df2 = pd.merge(df, df_airports, on='departure.iataCode', how='left')\n",
    "df2 = df2.rename({\"latitude_decimal_degrees\": \"departure_latitude\", \"longitude_decimal_degrees\": \"departure_longitude\"}, axis=1)"
   ]
  },
  {
   "cell_type": "code",
   "execution_count": 185,
   "id": "926dd3ce",
   "metadata": {},
   "outputs": [],
   "source": [
    "df_airports2 = df_airports.copy(deep=True)"
   ]
  },
  {
   "cell_type": "code",
   "execution_count": 186,
   "id": "c6a0dd46",
   "metadata": {},
   "outputs": [],
   "source": [
    "df2 = pd.merge(df, df_airports2, on='arrival.iataCode', how='left')"
   ]
  },
  {
   "cell_type": "code",
   "execution_count": 180,
   "id": "d4e033f9",
   "metadata": {},
   "outputs": [],
   "source": [
    "df2 = df2.rename({\"latitude_decimal_degrees\": \"arrival_latitude\", \"longitude_decimal_degrees\": \"arrival_longitude\"}, axis=1)"
   ]
  },
  {
   "cell_type": "code",
   "execution_count": 136,
   "id": "6116746c",
   "metadata": {
    "collapsed": true
   },
   "outputs": [
    {
     "ename": "KeyError",
     "evalue": "\"['ICAO_y', 'IATA_y', 'airport_name_y', 'city_y', 'country_y', 'altitude_y'] not found in axis\"",
     "output_type": "error",
     "traceback": [
      "\u001b[1;31m---------------------------------------------------------------------------\u001b[0m",
      "\u001b[1;31mKeyError\u001b[0m                                  Traceback (most recent call last)",
      "Cell \u001b[1;32mIn[136], line 1\u001b[0m\n\u001b[1;32m----> 1\u001b[0m \u001b[43mdf2\u001b[49m\u001b[38;5;241;43m.\u001b[39;49m\u001b[43mdrop\u001b[49m\u001b[43m(\u001b[49m\u001b[43m[\u001b[49m\u001b[38;5;124;43m'\u001b[39;49m\u001b[38;5;124;43mICAO_y\u001b[39;49m\u001b[38;5;124;43m'\u001b[39;49m\u001b[43m,\u001b[49m\u001b[43m \u001b[49m\u001b[38;5;124;43m'\u001b[39;49m\u001b[38;5;124;43mIATA_y\u001b[39;49m\u001b[38;5;124;43m'\u001b[39;49m\u001b[43m,\u001b[49m\u001b[43m \u001b[49m\u001b[38;5;124;43m'\u001b[39;49m\u001b[38;5;124;43mairport_name_y\u001b[39;49m\u001b[38;5;124;43m'\u001b[39;49m\u001b[43m,\u001b[49m\u001b[43m \u001b[49m\u001b[38;5;124;43m'\u001b[39;49m\u001b[38;5;124;43mcity_y\u001b[39;49m\u001b[38;5;124;43m'\u001b[39;49m\u001b[43m,\u001b[49m\u001b[43m \u001b[49m\u001b[38;5;124;43m'\u001b[39;49m\u001b[38;5;124;43mcountry_y\u001b[39;49m\u001b[38;5;124;43m'\u001b[39;49m\u001b[43m,\u001b[49m\u001b[43m \u001b[49m\u001b[38;5;124;43m'\u001b[39;49m\u001b[38;5;124;43maltitude_y\u001b[39;49m\u001b[38;5;124;43m'\u001b[39;49m\u001b[43m]\u001b[49m\u001b[43m,\u001b[49m\u001b[43m \u001b[49m\u001b[43maxis\u001b[49m\u001b[38;5;241;43m=\u001b[39;49m\u001b[38;5;241;43m1\u001b[39;49m\u001b[43m,\u001b[49m\u001b[43m \u001b[49m\u001b[43minplace\u001b[49m\u001b[38;5;241;43m=\u001b[39;49m\u001b[38;5;28;43;01mTrue\u001b[39;49;00m\u001b[43m)\u001b[49m\n",
      "File \u001b[1;32m~\\anaconda3\\envs\\flights\\lib\\site-packages\\pandas\\util\\_decorators.py:331\u001b[0m, in \u001b[0;36mdeprecate_nonkeyword_arguments.<locals>.decorate.<locals>.wrapper\u001b[1;34m(*args, **kwargs)\u001b[0m\n\u001b[0;32m    325\u001b[0m \u001b[38;5;28;01mif\u001b[39;00m \u001b[38;5;28mlen\u001b[39m(args) \u001b[38;5;241m>\u001b[39m num_allow_args:\n\u001b[0;32m    326\u001b[0m     warnings\u001b[38;5;241m.\u001b[39mwarn(\n\u001b[0;32m    327\u001b[0m         msg\u001b[38;5;241m.\u001b[39mformat(arguments\u001b[38;5;241m=\u001b[39m_format_argument_list(allow_args)),\n\u001b[0;32m    328\u001b[0m         \u001b[38;5;167;01mFutureWarning\u001b[39;00m,\n\u001b[0;32m    329\u001b[0m         stacklevel\u001b[38;5;241m=\u001b[39mfind_stack_level(),\n\u001b[0;32m    330\u001b[0m     )\n\u001b[1;32m--> 331\u001b[0m \u001b[38;5;28;01mreturn\u001b[39;00m func(\u001b[38;5;241m*\u001b[39margs, \u001b[38;5;241m*\u001b[39m\u001b[38;5;241m*\u001b[39mkwargs)\n",
      "File \u001b[1;32m~\\anaconda3\\envs\\flights\\lib\\site-packages\\pandas\\core\\frame.py:5396\u001b[0m, in \u001b[0;36mDataFrame.drop\u001b[1;34m(self, labels, axis, index, columns, level, inplace, errors)\u001b[0m\n\u001b[0;32m   5248\u001b[0m \u001b[38;5;129m@deprecate_nonkeyword_arguments\u001b[39m(version\u001b[38;5;241m=\u001b[39m\u001b[38;5;28;01mNone\u001b[39;00m, allowed_args\u001b[38;5;241m=\u001b[39m[\u001b[38;5;124m\"\u001b[39m\u001b[38;5;124mself\u001b[39m\u001b[38;5;124m\"\u001b[39m, \u001b[38;5;124m\"\u001b[39m\u001b[38;5;124mlabels\u001b[39m\u001b[38;5;124m\"\u001b[39m])\n\u001b[0;32m   5249\u001b[0m \u001b[38;5;28;01mdef\u001b[39;00m \u001b[38;5;21mdrop\u001b[39m(  \u001b[38;5;66;03m# type: ignore[override]\u001b[39;00m\n\u001b[0;32m   5250\u001b[0m     \u001b[38;5;28mself\u001b[39m,\n\u001b[1;32m   (...)\u001b[0m\n\u001b[0;32m   5257\u001b[0m     errors: IgnoreRaise \u001b[38;5;241m=\u001b[39m \u001b[38;5;124m\"\u001b[39m\u001b[38;5;124mraise\u001b[39m\u001b[38;5;124m\"\u001b[39m,\n\u001b[0;32m   5258\u001b[0m ) \u001b[38;5;241m-\u001b[39m\u001b[38;5;241m>\u001b[39m DataFrame \u001b[38;5;241m|\u001b[39m \u001b[38;5;28;01mNone\u001b[39;00m:\n\u001b[0;32m   5259\u001b[0m     \u001b[38;5;124;03m\"\"\"\u001b[39;00m\n\u001b[0;32m   5260\u001b[0m \u001b[38;5;124;03m    Drop specified labels from rows or columns.\u001b[39;00m\n\u001b[0;32m   5261\u001b[0m \n\u001b[1;32m   (...)\u001b[0m\n\u001b[0;32m   5394\u001b[0m \u001b[38;5;124;03m            weight  1.0     0.8\u001b[39;00m\n\u001b[0;32m   5395\u001b[0m \u001b[38;5;124;03m    \"\"\"\u001b[39;00m\n\u001b[1;32m-> 5396\u001b[0m     \u001b[38;5;28;01mreturn\u001b[39;00m \u001b[38;5;28;43msuper\u001b[39;49m\u001b[43m(\u001b[49m\u001b[43m)\u001b[49m\u001b[38;5;241;43m.\u001b[39;49m\u001b[43mdrop\u001b[49m\u001b[43m(\u001b[49m\n\u001b[0;32m   5397\u001b[0m \u001b[43m        \u001b[49m\u001b[43mlabels\u001b[49m\u001b[38;5;241;43m=\u001b[39;49m\u001b[43mlabels\u001b[49m\u001b[43m,\u001b[49m\n\u001b[0;32m   5398\u001b[0m \u001b[43m        \u001b[49m\u001b[43maxis\u001b[49m\u001b[38;5;241;43m=\u001b[39;49m\u001b[43maxis\u001b[49m\u001b[43m,\u001b[49m\n\u001b[0;32m   5399\u001b[0m \u001b[43m        \u001b[49m\u001b[43mindex\u001b[49m\u001b[38;5;241;43m=\u001b[39;49m\u001b[43mindex\u001b[49m\u001b[43m,\u001b[49m\n\u001b[0;32m   5400\u001b[0m \u001b[43m        \u001b[49m\u001b[43mcolumns\u001b[49m\u001b[38;5;241;43m=\u001b[39;49m\u001b[43mcolumns\u001b[49m\u001b[43m,\u001b[49m\n\u001b[0;32m   5401\u001b[0m \u001b[43m        \u001b[49m\u001b[43mlevel\u001b[49m\u001b[38;5;241;43m=\u001b[39;49m\u001b[43mlevel\u001b[49m\u001b[43m,\u001b[49m\n\u001b[0;32m   5402\u001b[0m \u001b[43m        \u001b[49m\u001b[43minplace\u001b[49m\u001b[38;5;241;43m=\u001b[39;49m\u001b[43minplace\u001b[49m\u001b[43m,\u001b[49m\n\u001b[0;32m   5403\u001b[0m \u001b[43m        \u001b[49m\u001b[43merrors\u001b[49m\u001b[38;5;241;43m=\u001b[39;49m\u001b[43merrors\u001b[49m\u001b[43m,\u001b[49m\n\u001b[0;32m   5404\u001b[0m \u001b[43m    \u001b[49m\u001b[43m)\u001b[49m\n",
      "File \u001b[1;32m~\\anaconda3\\envs\\flights\\lib\\site-packages\\pandas\\util\\_decorators.py:331\u001b[0m, in \u001b[0;36mdeprecate_nonkeyword_arguments.<locals>.decorate.<locals>.wrapper\u001b[1;34m(*args, **kwargs)\u001b[0m\n\u001b[0;32m    325\u001b[0m \u001b[38;5;28;01mif\u001b[39;00m \u001b[38;5;28mlen\u001b[39m(args) \u001b[38;5;241m>\u001b[39m num_allow_args:\n\u001b[0;32m    326\u001b[0m     warnings\u001b[38;5;241m.\u001b[39mwarn(\n\u001b[0;32m    327\u001b[0m         msg\u001b[38;5;241m.\u001b[39mformat(arguments\u001b[38;5;241m=\u001b[39m_format_argument_list(allow_args)),\n\u001b[0;32m    328\u001b[0m         \u001b[38;5;167;01mFutureWarning\u001b[39;00m,\n\u001b[0;32m    329\u001b[0m         stacklevel\u001b[38;5;241m=\u001b[39mfind_stack_level(),\n\u001b[0;32m    330\u001b[0m     )\n\u001b[1;32m--> 331\u001b[0m \u001b[38;5;28;01mreturn\u001b[39;00m func(\u001b[38;5;241m*\u001b[39margs, \u001b[38;5;241m*\u001b[39m\u001b[38;5;241m*\u001b[39mkwargs)\n",
      "File \u001b[1;32m~\\anaconda3\\envs\\flights\\lib\\site-packages\\pandas\\core\\generic.py:4505\u001b[0m, in \u001b[0;36mNDFrame.drop\u001b[1;34m(self, labels, axis, index, columns, level, inplace, errors)\u001b[0m\n\u001b[0;32m   4503\u001b[0m \u001b[38;5;28;01mfor\u001b[39;00m axis, labels \u001b[38;5;129;01min\u001b[39;00m axes\u001b[38;5;241m.\u001b[39mitems():\n\u001b[0;32m   4504\u001b[0m     \u001b[38;5;28;01mif\u001b[39;00m labels \u001b[38;5;129;01mis\u001b[39;00m \u001b[38;5;129;01mnot\u001b[39;00m \u001b[38;5;28;01mNone\u001b[39;00m:\n\u001b[1;32m-> 4505\u001b[0m         obj \u001b[38;5;241m=\u001b[39m \u001b[43mobj\u001b[49m\u001b[38;5;241;43m.\u001b[39;49m\u001b[43m_drop_axis\u001b[49m\u001b[43m(\u001b[49m\u001b[43mlabels\u001b[49m\u001b[43m,\u001b[49m\u001b[43m \u001b[49m\u001b[43maxis\u001b[49m\u001b[43m,\u001b[49m\u001b[43m \u001b[49m\u001b[43mlevel\u001b[49m\u001b[38;5;241;43m=\u001b[39;49m\u001b[43mlevel\u001b[49m\u001b[43m,\u001b[49m\u001b[43m \u001b[49m\u001b[43merrors\u001b[49m\u001b[38;5;241;43m=\u001b[39;49m\u001b[43merrors\u001b[49m\u001b[43m)\u001b[49m\n\u001b[0;32m   4507\u001b[0m \u001b[38;5;28;01mif\u001b[39;00m inplace:\n\u001b[0;32m   4508\u001b[0m     \u001b[38;5;28mself\u001b[39m\u001b[38;5;241m.\u001b[39m_update_inplace(obj)\n",
      "File \u001b[1;32m~\\anaconda3\\envs\\flights\\lib\\site-packages\\pandas\\core\\generic.py:4546\u001b[0m, in \u001b[0;36mNDFrame._drop_axis\u001b[1;34m(self, labels, axis, level, errors, only_slice)\u001b[0m\n\u001b[0;32m   4544\u001b[0m         new_axis \u001b[38;5;241m=\u001b[39m axis\u001b[38;5;241m.\u001b[39mdrop(labels, level\u001b[38;5;241m=\u001b[39mlevel, errors\u001b[38;5;241m=\u001b[39merrors)\n\u001b[0;32m   4545\u001b[0m     \u001b[38;5;28;01melse\u001b[39;00m:\n\u001b[1;32m-> 4546\u001b[0m         new_axis \u001b[38;5;241m=\u001b[39m \u001b[43maxis\u001b[49m\u001b[38;5;241;43m.\u001b[39;49m\u001b[43mdrop\u001b[49m\u001b[43m(\u001b[49m\u001b[43mlabels\u001b[49m\u001b[43m,\u001b[49m\u001b[43m \u001b[49m\u001b[43merrors\u001b[49m\u001b[38;5;241;43m=\u001b[39;49m\u001b[43merrors\u001b[49m\u001b[43m)\u001b[49m\n\u001b[0;32m   4547\u001b[0m     indexer \u001b[38;5;241m=\u001b[39m axis\u001b[38;5;241m.\u001b[39mget_indexer(new_axis)\n\u001b[0;32m   4549\u001b[0m \u001b[38;5;66;03m# Case for non-unique axis\u001b[39;00m\n\u001b[0;32m   4550\u001b[0m \u001b[38;5;28;01melse\u001b[39;00m:\n",
      "File \u001b[1;32m~\\anaconda3\\envs\\flights\\lib\\site-packages\\pandas\\core\\indexes\\base.py:6977\u001b[0m, in \u001b[0;36mIndex.drop\u001b[1;34m(self, labels, errors)\u001b[0m\n\u001b[0;32m   6975\u001b[0m \u001b[38;5;28;01mif\u001b[39;00m mask\u001b[38;5;241m.\u001b[39many():\n\u001b[0;32m   6976\u001b[0m     \u001b[38;5;28;01mif\u001b[39;00m errors \u001b[38;5;241m!=\u001b[39m \u001b[38;5;124m\"\u001b[39m\u001b[38;5;124mignore\u001b[39m\u001b[38;5;124m\"\u001b[39m:\n\u001b[1;32m-> 6977\u001b[0m         \u001b[38;5;28;01mraise\u001b[39;00m \u001b[38;5;167;01mKeyError\u001b[39;00m(\u001b[38;5;124mf\u001b[39m\u001b[38;5;124m\"\u001b[39m\u001b[38;5;132;01m{\u001b[39;00m\u001b[38;5;28mlist\u001b[39m(labels[mask])\u001b[38;5;132;01m}\u001b[39;00m\u001b[38;5;124m not found in axis\u001b[39m\u001b[38;5;124m\"\u001b[39m)\n\u001b[0;32m   6978\u001b[0m     indexer \u001b[38;5;241m=\u001b[39m indexer[\u001b[38;5;241m~\u001b[39mmask]\n\u001b[0;32m   6979\u001b[0m \u001b[38;5;28;01mreturn\u001b[39;00m \u001b[38;5;28mself\u001b[39m\u001b[38;5;241m.\u001b[39mdelete(indexer)\n",
      "\u001b[1;31mKeyError\u001b[0m: \"['ICAO_y', 'IATA_y', 'airport_name_y', 'city_y', 'country_y', 'altitude_y'] not found in axis\""
     ]
    }
   ],
   "source": [
    "df2.drop(['ICAO_y', 'IATA_y', 'airport_name_y', 'city_y', 'country_y', 'altitude_y'], axis=1, inplace=True)"
   ]
  },
  {
   "cell_type": "code",
   "execution_count": 187,
   "id": "af354a53",
   "metadata": {
    "scrolled": false
   },
   "outputs": [
    {
     "data": {
      "text/html": [
       "<div>\n",
       "<style scoped>\n",
       "    .dataframe tbody tr th:only-of-type {\n",
       "        vertical-align: middle;\n",
       "    }\n",
       "\n",
       "    .dataframe tbody tr th {\n",
       "        vertical-align: top;\n",
       "    }\n",
       "\n",
       "    .dataframe thead th {\n",
       "        text-align: right;\n",
       "    }\n",
       "</style>\n",
       "<table border=\"1\" class=\"dataframe\">\n",
       "  <thead>\n",
       "    <tr style=\"text-align: right;\">\n",
       "      <th></th>\n",
       "      <th>airline.name</th>\n",
       "      <th>departure.terminal</th>\n",
       "      <th>departure.gate</th>\n",
       "      <th>departure.scheduledTime</th>\n",
       "      <th>departure.actualTime</th>\n",
       "      <th>arrival.scheduledTime</th>\n",
       "      <th>arrival.actualTime</th>\n",
       "      <th>status</th>\n",
       "      <th>departure.iataCode_x</th>\n",
       "      <th>arrival.delay</th>\n",
       "      <th>...</th>\n",
       "      <th>weekday</th>\n",
       "      <th>time</th>\n",
       "      <th>ICAO</th>\n",
       "      <th>departure.iataCode_y</th>\n",
       "      <th>airport_name</th>\n",
       "      <th>city</th>\n",
       "      <th>country</th>\n",
       "      <th>altitude</th>\n",
       "      <th>latitude_decimal_degrees</th>\n",
       "      <th>longitude_decimal_degrees</th>\n",
       "    </tr>\n",
       "  </thead>\n",
       "  <tbody>\n",
       "    <tr>\n",
       "      <th>0</th>\n",
       "      <td>klm</td>\n",
       "      <td>NaN</td>\n",
       "      <td>NaN</td>\n",
       "      <td>2022-01-05t08:35:00.000</td>\n",
       "      <td>NaN</td>\n",
       "      <td>2022-01-05t09:50:00.000</td>\n",
       "      <td>NaN</td>\n",
       "      <td>active</td>\n",
       "      <td>koi</td>\n",
       "      <td>0.0</td>\n",
       "      <td>...</td>\n",
       "      <td>2</td>\n",
       "      <td>08:35:00</td>\n",
       "      <td>egph</td>\n",
       "      <td>edi</td>\n",
       "      <td>edinburgh</td>\n",
       "      <td>edinburgh</td>\n",
       "      <td>uk</td>\n",
       "      <td>42.0</td>\n",
       "      <td>55.950</td>\n",
       "      <td>-3.373</td>\n",
       "    </tr>\n",
       "    <tr>\n",
       "      <th>1</th>\n",
       "      <td>klm</td>\n",
       "      <td>NaN</td>\n",
       "      <td>NaN</td>\n",
       "      <td>2022-01-06t08:35:00.000</td>\n",
       "      <td>2022-01-06t08:34:00.000</td>\n",
       "      <td>2022-01-06t09:50:00.000</td>\n",
       "      <td>NaN</td>\n",
       "      <td>active</td>\n",
       "      <td>koi</td>\n",
       "      <td>0.0</td>\n",
       "      <td>...</td>\n",
       "      <td>3</td>\n",
       "      <td>08:35:00</td>\n",
       "      <td>egph</td>\n",
       "      <td>edi</td>\n",
       "      <td>edinburgh</td>\n",
       "      <td>edinburgh</td>\n",
       "      <td>uk</td>\n",
       "      <td>42.0</td>\n",
       "      <td>55.950</td>\n",
       "      <td>-3.373</td>\n",
       "    </tr>\n",
       "    <tr>\n",
       "      <th>2</th>\n",
       "      <td>klm</td>\n",
       "      <td>NaN</td>\n",
       "      <td>NaN</td>\n",
       "      <td>2022-01-07t08:35:00.000</td>\n",
       "      <td>2022-01-07t08:47:00.000</td>\n",
       "      <td>2022-01-07t09:50:00.000</td>\n",
       "      <td>NaN</td>\n",
       "      <td>active</td>\n",
       "      <td>koi</td>\n",
       "      <td>0.0</td>\n",
       "      <td>...</td>\n",
       "      <td>4</td>\n",
       "      <td>08:35:00</td>\n",
       "      <td>egph</td>\n",
       "      <td>edi</td>\n",
       "      <td>edinburgh</td>\n",
       "      <td>edinburgh</td>\n",
       "      <td>uk</td>\n",
       "      <td>42.0</td>\n",
       "      <td>55.950</td>\n",
       "      <td>-3.373</td>\n",
       "    </tr>\n",
       "    <tr>\n",
       "      <th>3</th>\n",
       "      <td>klm</td>\n",
       "      <td>NaN</td>\n",
       "      <td>NaN</td>\n",
       "      <td>2022-01-07t19:00:00.000</td>\n",
       "      <td>2022-01-07t18:44:00.000</td>\n",
       "      <td>2022-01-07t19:50:00.000</td>\n",
       "      <td>NaN</td>\n",
       "      <td>active</td>\n",
       "      <td>koi</td>\n",
       "      <td>0.0</td>\n",
       "      <td>...</td>\n",
       "      <td>4</td>\n",
       "      <td>19:00:00</td>\n",
       "      <td>egpd</td>\n",
       "      <td>abz</td>\n",
       "      <td>dyce</td>\n",
       "      <td>aberdeen</td>\n",
       "      <td>uk</td>\n",
       "      <td>66.0</td>\n",
       "      <td>57.204</td>\n",
       "      <td>-2.200</td>\n",
       "    </tr>\n",
       "    <tr>\n",
       "      <th>4</th>\n",
       "      <td>klm</td>\n",
       "      <td>NaN</td>\n",
       "      <td>NaN</td>\n",
       "      <td>2022-01-08t10:05:00.000</td>\n",
       "      <td>2022-01-08t10:25:00.000</td>\n",
       "      <td>2022-01-08t11:20:00.000</td>\n",
       "      <td>NaN</td>\n",
       "      <td>active</td>\n",
       "      <td>koi</td>\n",
       "      <td>3.0</td>\n",
       "      <td>...</td>\n",
       "      <td>5</td>\n",
       "      <td>10:05:00</td>\n",
       "      <td>egph</td>\n",
       "      <td>edi</td>\n",
       "      <td>edinburgh</td>\n",
       "      <td>edinburgh</td>\n",
       "      <td>uk</td>\n",
       "      <td>42.0</td>\n",
       "      <td>55.950</td>\n",
       "      <td>-3.373</td>\n",
       "    </tr>\n",
       "  </tbody>\n",
       "</table>\n",
       "<p>5 rows × 25 columns</p>\n",
       "</div>"
      ],
      "text/plain": [
       "  airline.name departure.terminal departure.gate  departure.scheduledTime  \\\n",
       "0          klm                NaN            NaN  2022-01-05t08:35:00.000   \n",
       "1          klm                NaN            NaN  2022-01-06t08:35:00.000   \n",
       "2          klm                NaN            NaN  2022-01-07t08:35:00.000   \n",
       "3          klm                NaN            NaN  2022-01-07t19:00:00.000   \n",
       "4          klm                NaN            NaN  2022-01-08t10:05:00.000   \n",
       "\n",
       "      departure.actualTime    arrival.scheduledTime arrival.actualTime  \\\n",
       "0                      NaN  2022-01-05t09:50:00.000                NaN   \n",
       "1  2022-01-06t08:34:00.000  2022-01-06t09:50:00.000                NaN   \n",
       "2  2022-01-07t08:47:00.000  2022-01-07t09:50:00.000                NaN   \n",
       "3  2022-01-07t18:44:00.000  2022-01-07t19:50:00.000                NaN   \n",
       "4  2022-01-08t10:25:00.000  2022-01-08t11:20:00.000                NaN   \n",
       "\n",
       "   status departure.iataCode_x  arrival.delay  ... weekday      time  ICAO  \\\n",
       "0  active                  koi            0.0  ...       2  08:35:00  egph   \n",
       "1  active                  koi            0.0  ...       3  08:35:00  egph   \n",
       "2  active                  koi            0.0  ...       4  08:35:00  egph   \n",
       "3  active                  koi            0.0  ...       4  19:00:00  egpd   \n",
       "4  active                  koi            3.0  ...       5  10:05:00  egph   \n",
       "\n",
       "   departure.iataCode_y airport_name       city country altitude  \\\n",
       "0                   edi    edinburgh  edinburgh      uk     42.0   \n",
       "1                   edi    edinburgh  edinburgh      uk     42.0   \n",
       "2                   edi    edinburgh  edinburgh      uk     42.0   \n",
       "3                   abz         dyce   aberdeen      uk     66.0   \n",
       "4                   edi    edinburgh  edinburgh      uk     42.0   \n",
       "\n",
       "  latitude_decimal_degrees longitude_decimal_degrees  \n",
       "0                   55.950                    -3.373  \n",
       "1                   55.950                    -3.373  \n",
       "2                   55.950                    -3.373  \n",
       "3                   57.204                    -2.200  \n",
       "4                   55.950                    -3.373  \n",
       "\n",
       "[5 rows x 25 columns]"
      ]
     },
     "execution_count": 187,
     "metadata": {},
     "output_type": "execute_result"
    }
   ],
   "source": [
    "df2.head()"
   ]
  },
  {
   "cell_type": "code",
   "execution_count": 188,
   "id": "59e08115",
   "metadata": {},
   "outputs": [
    {
     "name": "stdout",
     "output_type": "stream",
     "text": [
      "<class 'pandas.core.frame.DataFrame'>\n",
      "Int64Index: 253129 entries, 0 to 253128\n",
      "Data columns (total 25 columns):\n",
      " #   Column                     Non-Null Count   Dtype         \n",
      "---  ------                     --------------   -----         \n",
      " 0   airline.name               253129 non-null  object        \n",
      " 1   departure.terminal         126090 non-null  object        \n",
      " 2   departure.gate             191362 non-null  object        \n",
      " 3   departure.scheduledTime    253129 non-null  object        \n",
      " 4   departure.actualTime       156808 non-null  object        \n",
      " 5   arrival.scheduledTime      253129 non-null  object        \n",
      " 6   arrival.actualTime         3500 non-null    object        \n",
      " 7   status                     253129 non-null  object        \n",
      " 8   departure.iataCode_x       253129 non-null  object        \n",
      " 9   arrival.delay              253129 non-null  float64       \n",
      " 10  arrival.iataCode           253129 non-null  object        \n",
      " 11  year                       253129 non-null  int64         \n",
      " 12  month                      253129 non-null  int64         \n",
      " 13  day                        253129 non-null  int64         \n",
      " 14  date                       253129 non-null  datetime64[ns]\n",
      " 15  weekday                    253129 non-null  int64         \n",
      " 16  time                       253129 non-null  object        \n",
      " 17  ICAO                       244565 non-null  object        \n",
      " 18  departure.iataCode_y       244565 non-null  object        \n",
      " 19  airport_name               240471 non-null  object        \n",
      " 20  city                       244565 non-null  object        \n",
      " 21  country                    244565 non-null  object        \n",
      " 22  altitude                   244565 non-null  float64       \n",
      " 23  latitude_decimal_degrees   244565 non-null  float64       \n",
      " 24  longitude_decimal_degrees  244565 non-null  float64       \n",
      "dtypes: datetime64[ns](1), float64(4), int64(4), object(16)\n",
      "memory usage: 50.2+ MB\n"
     ]
    }
   ],
   "source": [
    "df2.info()"
   ]
  },
  {
   "cell_type": "code",
   "execution_count": 37,
   "id": "8d1b0437",
   "metadata": {},
   "outputs": [
    {
     "name": "stdout",
     "output_type": "stream",
     "text": [
      "<class 'pandas.core.frame.DataFrame'>\n",
      "RangeIndex: 251898 entries, 0 to 251897\n",
      "Data columns (total 11 columns):\n",
      " #   Column                   Non-Null Count   Dtype  \n",
      "---  ------                   --------------   -----  \n",
      " 0   airline.name             251898 non-null  object \n",
      " 1   departure.terminal       125580 non-null  object \n",
      " 2   departure.gate           190401 non-null  object \n",
      " 3   departure.scheduledTime  251898 non-null  object \n",
      " 4   departure.actualTime     155957 non-null  object \n",
      " 5   arrival.scheduledTime    251898 non-null  object \n",
      " 6   arrival.actualTime       3500 non-null    object \n",
      " 7   status                   251898 non-null  object \n",
      " 8   departure.iataCode       251898 non-null  object \n",
      " 9   arrival.delay            40282 non-null   float64\n",
      " 10  arrival.iataCode         251898 non-null  object \n",
      "dtypes: float64(1), object(10)\n",
      "memory usage: 21.1+ MB\n"
     ]
    }
   ],
   "source": []
  },
  {
   "cell_type": "code",
   "execution_count": null,
   "id": "96d0d0fe",
   "metadata": {},
   "outputs": [],
   "source": []
  },
  {
   "cell_type": "code",
   "execution_count": null,
   "id": "dbde8a88",
   "metadata": {},
   "outputs": [],
   "source": []
  },
  {
   "cell_type": "code",
   "execution_count": null,
   "id": "bc7e9a35",
   "metadata": {},
   "outputs": [],
   "source": []
  },
  {
   "cell_type": "code",
   "execution_count": null,
   "id": "8075d7bb",
   "metadata": {},
   "outputs": [],
   "source": []
  },
  {
   "cell_type": "code",
   "execution_count": null,
   "id": "6f52607a",
   "metadata": {},
   "outputs": [],
   "source": []
  },
  {
   "cell_type": "code",
   "execution_count": null,
   "id": "30bef008",
   "metadata": {},
   "outputs": [],
   "source": []
  }
 ],
 "metadata": {
  "kernelspec": {
   "display_name": "Python 3 (ipykernel)",
   "language": "python",
   "name": "python3"
  },
  "language_info": {
   "codemirror_mode": {
    "name": "ipython",
    "version": 3
   },
   "file_extension": ".py",
   "mimetype": "text/x-python",
   "name": "python",
   "nbconvert_exporter": "python",
   "pygments_lexer": "ipython3",
   "version": "3.9.15"
  }
 },
 "nbformat": 4,
 "nbformat_minor": 5
}
